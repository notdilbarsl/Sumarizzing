{
 "cells": [
  {
   "cell_type": "code",
   "execution_count": 10,
   "id": "6432ec45",
   "metadata": {},
   "outputs": [],
   "source": [
    "#Selenium imports here\n",
    "from selenium import webdriver\n",
    "from selenium.webdriver.common.keys import Keys\n",
    "from selenium.webdriver.common.action_chains import ActionChains\n",
    "from selenium.webdriver.support import expected_conditions as EC\n",
    "from selenium.webdriver.common.by import By\n",
    "from selenium.webdriver.firefox.service import Service\n",
    "from webdriver_manager.firefox import GeckoDriverManager\n",
    "from selenium.webdriver.support.wait import WebDriverWait\n",
    "from bs4 import BeautifulSoup\n",
    "import os\n",
    "import wget\n",
    "import time"
   ]
  },
  {
   "cell_type": "code",
   "execution_count": 11,
   "id": "cc2e6ba6",
   "metadata": {},
   "outputs": [],
   "source": [
    "driver = webdriver.Firefox(service=Service(executable_path=GeckoDriverManager().install()))\n",
    "driver.get(\"https://twitter.com/i/flow/login\")"
   ]
  },
  {
   "cell_type": "code",
   "execution_count": 14,
   "id": "6d7f9183",
   "metadata": {},
   "outputs": [],
   "source": [
    "username = driver.find_element(By.XPATH,'//*[@id=\"layers\"]/div/div/div/div/div/div/div[2]/div[2]/div/div/div[2]/div[2]/div/div/div/div[5]/label/div/div[2]/div/input')\n",
    "username.send_keys('username')\n"
   ]
  },
  {
   "cell_type": "code",
   "execution_count": 15,
   "id": "62aa2918",
   "metadata": {},
   "outputs": [],
   "source": [
    "button = WebDriverWait(driver, 10).until(EC.element_to_be_clickable((By.XPATH, \"//div[@role='button'][contains(.,'Next')]\")))\n",
    "button.click()"
   ]
  },
  {
   "cell_type": "code",
   "execution_count": 16,
   "id": "dc370130",
   "metadata": {},
   "outputs": [],
   "source": [
    "password = driver.find_element(By.XPATH,\"//input[@name='password']\")\n",
    "password.send_keys('password')"
   ]
  },
  {
   "cell_type": "code",
   "execution_count": 17,
   "id": "f46e089c",
   "metadata": {},
   "outputs": [],
   "source": [
    "button = WebDriverWait(driver, 10).until(EC.element_to_be_clickable((By.XPATH, \"//div[@role='button'][contains(.,'Log in')]\")))\n",
    "button.click()"
   ]
  },
  {
   "cell_type": "code",
   "execution_count": 18,
   "id": "a32998e6",
   "metadata": {},
   "outputs": [],
   "source": [
    "driver.get(\"https://twitter.com/elonmusk\")"
   ]
  },
  {
   "cell_type": "code",
   "execution_count": 19,
   "id": "5095d1ce",
   "metadata": {},
   "outputs": [
    {
     "name": "stdout",
     "output_type": "stream",
     "text": [
      "Enter the Number of Tweets you want to be Printed : 17\n",
      "Falcon 9’s first stage has landed on the Of Course I Still Love You droneship\n",
      "Liftoff!\n",
      "Exciting news!  The wait is over as we officially unveil the #POCOF5, our latest flagship smartphone packed with cutting-edge features for an unparalleled mobile experience. Launching on 9th May.\n",
      "#POCO #FlagshipKiller #LaunchDay #ReturnofTheKing \n",
      "Anyone making materially false statements on this platform will get Community Noted, including you, me, Tucker, advertisers, head of state, etc. No exceptions. \n",
      "\n",
      "Convince the people and let the chips fall where they may. \n",
      "\n",
      "@CommunityNotes\n",
      "Anyone making materially false statements on this platform will get Community Noted, including you, me, Tucker, advertisers, head of state, etc. No exceptions. \n",
      "\n",
      "Convince the people and let the chips fall where they may. \n",
      "\n",
      "@CommunityNotes\n",
      "[right wing meme]\n",
      "@ylecun\n",
      "Wow didn’t imagine any scooter will be able do this\n",
      "\n",
      "And please don’t try it at home \n",
      "\n",
      "The Ola S1 #BuiltToPerfection\n",
      "The data with which the Federal Reserve is making decisions has too much latency\n",
      "Met with @SenSchumer and many members of Congress about artificial intelligence regulation today.\n",
      "\n",
      "That which affects safety of the public has, over time, become regulated to ensure that companies do not cut corners. \n",
      "\n",
      "AI has great power to do good and evil. Better the former.\n",
      "Transparency is fundamental to everything we do at Twitter. As we review our approach to transparency reporting for the future, today we’re publishing our 21st report, with data on our policy enforcement for the first half of 2022. Read more here:\n",
      "Verified accounts are now prioritized\n",
      "Given the moves by Fox and CNN news today with the firings of Don Lemon and Tucker Carlson, I think what we have is mainstream media realizing that change is needed. People don't want to be mislead by news stations. They also don't want misogynistic viewpoints to flourish.\n",
      "\n",
      "As… Show more\n",
      "We’re rapidly improving transparency & fairness on this platform, but there is still a lot of work to do\n",
      "Hard to believe Starship actually did launch on 4/20 lol\n",
      "Content creators may wish to enable subscriptions on this platform. \n",
      "\n",
      "Just tap on Monetization in settings.\n",
      "We live in the most interesting of times\n"
     ]
    }
   ],
   "source": [
    "n = int(input(\"Enter the Number of Tweets you want to be Printed : \"))\n",
    "m=0\n",
    "while n > 0 :\n",
    "    flag = 0\n",
    "    time.sleep(2)\n",
    "    htmlcode = (driver.page_source).encode('utf-8')\n",
    "    soup = BeautifulSoup(htmlcode,features=\"html.parser\")\n",
    "    x=soup.findAll(['div'],class_ = 'css-901oao r-1nao33i r-37j5jr r-a023e6 r-16dba41 r-rjixqe r-bcqeeo r-bnwqim r-qvutc0')\n",
    "    for i in x:\n",
    "        try:\n",
    "            print(i.get_text())\n",
    "            n-=1\n",
    "            if n==0:\n",
    "                break\n",
    "        except:\n",
    "            pass\n",
    "    driver.execute_script(\"window.scrollTo(\"+str(m)+\", \"+str(m+4000)+\");\")\n",
    "    m += 4000"
   ]
  },
  {
   "cell_type": "code",
   "execution_count": null,
   "id": "b1c25aa0",
   "metadata": {},
   "outputs": [],
   "source": []
  }
 ],
 "metadata": {
  "kernelspec": {
   "display_name": "Python 3 (ipykernel)",
   "language": "python",
   "name": "python3"
  },
  "language_info": {
   "codemirror_mode": {
    "name": "ipython",
    "version": 3
   },
   "file_extension": ".py",
   "mimetype": "text/x-python",
   "name": "python",
   "nbconvert_exporter": "python",
   "pygments_lexer": "ipython3",
   "version": "3.11.3"
  }
 },
 "nbformat": 4,
 "nbformat_minor": 5
}
